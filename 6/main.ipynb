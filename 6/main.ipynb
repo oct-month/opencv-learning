{
 "cells": [
  {
   "cell_type": "code",
   "execution_count": 1,
   "source": [
    "import cv2\r\n",
    "import numpy as np"
   ],
   "outputs": [],
   "metadata": {}
  },
  {
   "cell_type": "markdown",
   "source": [
    "## Canny边缘检测\r\n",
    "\r\n",
    "1. 使用高斯滤波器，以平滑图像，滤除噪声。\r\n",
    "2. 计算图像中每个像素点的梯度强度和方向。\r\n",
    "3. 应用`非极大值抑制`，以消除边缘检测带来的杂散响应。\r\n",
    "4. 应用`双阈值检测`来确定真实和潜在的边缘。\r\n",
    "5. 通过抑制孤立的弱边缘最终完成边缘检测。"
   ],
   "metadata": {}
  },
  {
   "cell_type": "code",
   "execution_count": null,
   "source": [],
   "outputs": [],
   "metadata": {}
  }
 ],
 "metadata": {
  "orig_nbformat": 4,
  "language_info": {
   "name": "python",
   "version": "3.8.10",
   "mimetype": "text/x-python",
   "codemirror_mode": {
    "name": "ipython",
    "version": 3
   },
   "pygments_lexer": "ipython3",
   "nbconvert_exporter": "python",
   "file_extension": ".py"
  },
  "kernelspec": {
   "name": "python3",
   "display_name": "Python 3.8.10 64-bit ('.venv': pipenv)"
  },
  "interpreter": {
   "hash": "39f99c23feb409312b8721cf18cab0f26d8d66a36c9edd8d89bb6573c49dc130"
  }
 },
 "nbformat": 4,
 "nbformat_minor": 2
}